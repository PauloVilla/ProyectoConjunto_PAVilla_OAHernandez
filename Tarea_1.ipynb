{
 "cells": [
  {
   "cell_type": "markdown",
   "metadata": {},
   "source": [
    "<img style=\"float: left; margin: 30px 15px 15px 15px;\" src=\"https://encrypted-tbn0.gstatic.com/images?q=tbn:ANd9GcTFzQj91sOlkeDFkg5HDbjtR4QJYmLXkfMNig&usqp=CAU\"  height=\"500\" />\n",
    "\n",
    "    \n",
    "    \n",
    "### <font color='navy'> Modelos no lineales para pronósticos. \n",
    "\n",
    "**Nombres:** Paulo Adrián Villa Domínguez.\n",
    "    \n",
    "             Omar Antonio Hernandez Sanchez.\n",
    "\n",
    "**Fecha:** 31 de enero del 2023.\n",
    "\n",
    "**Expediente** : 733773 y 733224.\n",
    "    \n",
    "**Profesor:** Oscar David Jaramillo Zuluaga.\n",
    "    \n",
    "**Link Github**: https://github.com/PauloVilla/ProyectoConjunto_PAVilla_OAHernandez\n",
    "\n",
    "# Tarea 1: Clase 2"
   ]
  },
  {
   "cell_type": "markdown",
   "metadata": {},
   "source": [
    "## Enunciado de tarea (Transcibirlo)\n",
    "\n",
    "Realizar una presentación describiendo sus expectativas del curso y la transcipción de la Figura 1 y Figura 2 respectivamente, haciendo uso de la sintaxis Markdown. Recuerden definir unas celdas donde cada usuario modificará el cuaderno de python para evitar futuros conflictos."
   ]
  },
  {
   "cell_type": "markdown",
   "metadata": {},
   "source": [
    "## Paso 5 Expectativas del curso"
   ]
  },
  {
   "cell_type": "markdown",
   "metadata": {},
   "source": [
    "### Paulo\n",
    "\n",
    "Para este curso espero recuperar conocimientos de series de tiempo y conceptos, además ampliar estos conocimientos, también poder realizar redes neuronales para series de tiempo."
   ]
  },
  {
   "cell_type": "markdown",
   "metadata": {},
   "source": [
    "### Omar\n",
    "\n",
    ".\n",
    ".\n",
    ".\n",
    "."
   ]
  },
  {
   "cell_type": "markdown",
   "metadata": {},
   "source": [
    "# Código de solución estudiante 1"
   ]
  },
  {
   "cell_type": "markdown",
   "metadata": {},
   "source": [
    "| $i$ | $x$  | $f(x)$ |\n",
    "| -- :|-----:| ------:|\n",
    "| 0   | -1   | 0.3678 |\n",
    "| <font color= red > 1 </font>   | <font color= red >-0.5</font> | <font color= red >0.7788</font>  |\n",
    "| <font color= blue > 2 </font>  | <font color= blue > 2 </font> | <font color= blue > 1 </font>    |\n",
    "| <font color= red > 3 </font>   | <font color= red > 0.5 </font>| <font color= red > 0.7788 </font>|\n",
    "| 4   | 1    | 0.3678 |\n",
    "\n",
    "<center>Cuadro 1: Tabla de valores de $f(x)$\n",
    "  \n",
    "$$\n",
    "\\begin{align}\n",
    "\\int_{-1}^{1}e^{-x^2}dx &\\approx \\frac{0,5}{3}[f(-1)+f(1)+4(\\color{red}{f(-0,5)+f(0,5)})+2\\color{blue}{f(0)}]\\\\\n",
    " &\\approx\\frac{0,5}{3}[0,3678+0,3678+4(\\color{red}{0,7788+0,7788})+2\\cdot\\color{blue}{1}]\\approx1,4943\n",
    "\\end{align}\n",
    "$$\n",
    "\n",
    "\n",
    "<center>A modo de verificación, se calculará por software, el valor del área para $n=100$, un valor mucho más elevado al que se utilizó anteriormente. Si lo calculado previamente es correcto, se esperaría que sea próximo al valor presentado a continuación para ser una buena aproximación.\n",
    "\n",
    "$$\n",
    "\\int_{-1}^{1}e^{-x^2}dx\\approx1,4936\n",
    "$$"
   ]
  },
  {
   "cell_type": "code",
   "execution_count": 5,
   "metadata": {},
   "outputs": [
    {
     "data": {
      "text/plain": [
       "[0,\n",
       " 1,\n",
       " 1,\n",
       " 2,\n",
       " 3,\n",
       " 5,\n",
       " 8,\n",
       " 13,\n",
       " 21,\n",
       " 34,\n",
       " 55,\n",
       " 89,\n",
       " 144,\n",
       " 233,\n",
       " 377,\n",
       " 610,\n",
       " 987,\n",
       " 1597,\n",
       " 2584,\n",
       " 4181,\n",
       " 6765,\n",
       " 10946,\n",
       " 17711,\n",
       " 28657,\n",
       " 46368,\n",
       " 75025,\n",
       " 121393,\n",
       " 196418,\n",
       " 317811,\n",
       " 514229,\n",
       " 832040,\n",
       " 1346269,\n",
       " 2178309,\n",
       " 3524578,\n",
       " 5702887,\n",
       " 9227465,\n",
       " 14930352,\n",
       " 24157817,\n",
       " 39088169,\n",
       " 63245986,\n",
       " 102334155,\n",
       " 165580141,\n",
       " 267914296,\n",
       " 433494437,\n",
       " 701408733,\n",
       " 1134903170,\n",
       " 1836311903,\n",
       " 2971215073,\n",
       " 4807526976,\n",
       " 7778742049,\n",
       " 12586269025,\n",
       " 20365011074,\n",
       " 32951280099,\n",
       " 53316291173,\n",
       " 86267571272,\n",
       " 139583862445,\n",
       " 225851433717,\n",
       " 365435296162,\n",
       " 591286729879,\n",
       " 956722026041,\n",
       " 1548008755920,\n",
       " 2504730781961,\n",
       " 4052739537881,\n",
       " 6557470319842,\n",
       " 10610209857723,\n",
       " 17167680177565,\n",
       " 27777890035288,\n",
       " 44945570212853,\n",
       " 72723460248141,\n",
       " 117669030460994,\n",
       " 190392490709135,\n",
       " 308061521170129,\n",
       " 498454011879264,\n",
       " 806515533049393,\n",
       " 1304969544928657,\n",
       " 2111485077978050,\n",
       " 3416454622906707,\n",
       " 5527939700884757,\n",
       " 8944394323791464,\n",
       " 14472334024676221,\n",
       " 23416728348467685,\n",
       " 37889062373143906,\n",
       " 61305790721611591,\n",
       " 99194853094755497,\n",
       " 160500643816367088,\n",
       " 259695496911122585,\n",
       " 420196140727489673,\n",
       " 679891637638612258,\n",
       " 1100087778366101931,\n",
       " 1779979416004714189,\n",
       " 2880067194370816120,\n",
       " 4660046610375530309,\n",
       " 7540113804746346429,\n",
       " 12200160415121876738,\n",
       " 19740274219868223167,\n",
       " 31940434634990099905,\n",
       " 51680708854858323072,\n",
       " 83621143489848422977,\n",
       " 135301852344706746049,\n",
       " 218922995834555169026]"
      ]
     },
     "execution_count": 5,
     "metadata": {},
     "output_type": "execute_result"
    }
   ],
   "source": [
    "fibonacci = [0, 1]\n",
    "for i in range(2, 100):\n",
    "    fibonacci.append(fibonacci[i-1] + fibonacci[i-2])\n",
    "fibonacci"
   ]
  },
  {
   "cell_type": "markdown",
   "metadata": {},
   "source": [
    "# Código de solución estudiante 2"
   ]
  },
  {
   "cell_type": "markdown",
   "metadata": {},
   "source": [
    "\n",
    "|       i       | 1 | 2 | 3 | 4 | 5 | 6 | 7 |\n",
    "|:-------------:|---|---|---|---|---|---|---|\n",
    "|  $$E_{i}(V)$$   | 12| 10|24 | 12| - | - | - |\n",
    "|$$r_{i}(\\Omega)$$|0.1|0.5|0.2|0.5| - | - | - |\n",
    "|$$R_{i}(\\Omega)$$| 25|40 |16 |20 | 9 | 4 |20 |\n",
    "\n",
    "\n",
    "&nbsp;&nbsp; <font color=\"Blue\">Kemma y Vorst (1990)</font> muestran que las opciones asiáticas con media geométrica continua se pueden evaluar con el mismo enfoque de las opciones *plain vanilla* solo se deben de cambiar los parámetros de volatilidad $\\sigma$ por $\\sigma_{a}$ y el costo de acarreo $b$ por $b_{A}$.\n",
    "\n",
    "&nbsp;&nbsp; De acuerdo con Kemma y Vorst, las fórmulas para valuar una opciuón de compra y una opción de venta son:\n",
    "$\n",
    "\\begin{equation} \\tag{3}\n",
    "c \\approx S_{t}e^{(b_{A}-r)(T-t)}\\Phi(d_{i}) - Ke^{-r(T-t)}\\Phi (d_{2}),\\\\\n",
    "p \\approx Ke^{-r(T-t)}\\Phi (-d_{2}) - S_{t}e^{(b_{A}-r)(T-t)}\\Phi(-d_{1}).\n",
    "\\end{equation}\n",
    "$\n",
    "\n",
    "con $d_{1}$ y $d_{2}$ dados por:\n",
    "\n",
    "$\n",
    "\\begin{equation} \\tag{4}\n",
    "d_{1} = \\frac{ln(S_{t}/K)+(b_{A}+1/{2\\sigma^{2}_{a}})(T-t))}{\\sigma \\sqrt{T-t}},\\\\\n",
    "d_{2} = d_{1} -\\sigma_{a}\\sqrt{T-t}.\n",
    "\\end{equation}\n",
    "$\n",
    "\n",
    "La función $\\Phi (d)$ es la función de distribución acumulada de $E\\sim \\mathcal{N}(0,1)$. La volatilidad ajustada es igual a:\n",
    "\n",
    "&nbsp;&nbsp;&nbsp;&nbsp;&nbsp;&nbsp;&nbsp;&nbsp;&nbsp;$\n",
    "\\begin{equation}\n",
    "\\sigma_{a} = \\frac{\\sigma}{\\sqrt{3}},\n",
    "\\end{equation}\n",
    "$\n",
    "\n",
    "\n",
    "mientras que el costo de acarrel ajustado es:\n",
    "\n",
    "\n",
    "&nbsp;&nbsp;&nbsp;&nbsp;&nbsp;&nbsp;&nbsp;&nbsp;&nbsp;$\n",
    "\\begin{equation}\n",
    "b_{A} = \\frac{1}{2}(v-\\frac{\\sigma^{2}}{6})\n",
    "\\end{equation}\n",
    "$\n"
   ]
  },
  {
   "cell_type": "code",
   "execution_count": null,
   "metadata": {},
   "outputs": [],
   "source": []
  },
  {
   "cell_type": "code",
   "execution_count": null,
   "metadata": {},
   "outputs": [],
   "source": []
  }
 ],
 "metadata": {
  "kernelspec": {
   "display_name": "Python 3",
   "language": "python",
   "name": "python3"
  },
  "language_info": {
   "codemirror_mode": {
    "name": "ipython",
    "version": 3
   },
   "file_extension": ".py",
   "mimetype": "text/x-python",
   "name": "python",
   "nbconvert_exporter": "python",
   "pygments_lexer": "ipython3",
   "version": "3.8.8"
  }
 },
 "nbformat": 4,
 "nbformat_minor": 2
}
