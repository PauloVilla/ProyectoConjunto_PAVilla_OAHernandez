{
 "cells": [
  {
   "cell_type": "markdown",
   "metadata": {},
   "source": [
    "<img style=\"float: left; margin: 30px 15px 15px 15px;\" src=\"https://encrypted-tbn0.gstatic.com/images?q=tbn:ANd9GcTFzQj91sOlkeDFkg5HDbjtR4QJYmLXkfMNig&usqp=CAU\"  height=\"500\" />\n",
    "\n",
    "    \n",
    "    \n",
    "### <font color='navy'> Modelos no lineales para pronósticos. \n",
    "\n",
    "**Nombres:** Paulo Adrián Villa Domínguez.\n",
    "    \n",
    "             Omar Antonio Hernandez Sanchez.\n",
    "\n",
    "**Fecha:** 31 de enero del 2023.\n",
    "\n",
    "**Expediente** : 733773 y 733224.\n",
    "    \n",
    "**Profesor:** Oscar David Jaramillo Zuluaga.\n",
    "    \n",
    "**Link Github**: https://github.com/PauloVilla/ProyectoConjunto_PAVilla_OAHernandez\n",
    "\n",
    "# Tarea 1: Clase 2"
   ]
  },
  {
   "cell_type": "markdown",
   "metadata": {},
   "source": [
    "## Enunciado de tarea (Transcibirlo)\n",
    "\n",
    "Realizar una presentación describiendo sus expectativas del curso y la transcipción de la Figura 1 y Figura 2 respectivamente, haciendo uso de la sintaxis Markdown. Recuerden definir unas celdas donde cada usuario modificará el cuaderno de python para evitar futuros conflictos."
   ]
  },
  {
   "cell_type": "markdown",
   "metadata": {},
   "source": [
    "## Paso 5 Expectativas del curso"
   ]
  },
  {
   "cell_type": "markdown",
   "metadata": {},
   "source": [
    "### Paulo\n",
    "\n",
    "Para este curso espero recuperar conocimientos de series de tiempo y conceptos, además ampliar estos conocimientos, también poder realizar redes neuronales para series de tiempo."
   ]
  },
  {
   "cell_type": "markdown",
   "metadata": {},
   "source": [
    "### Omar\n",
    "\n",
    ".\n",
    ".\n",
    ".\n",
    "."
   ]
  },
  {
   "cell_type": "markdown",
   "metadata": {},
   "source": [
    "# Código de solución estudiante 1"
   ]
  },
  {
   "cell_type": "markdown",
   "metadata": {},
   "source": [
    "| $i$ | $x$  | $f(x)$ |\n",
    "| -- :|-----:| ------:|\n",
    "| 0   | -1   | 0.3678 |\n",
    "| <font color= red > 1 </font>   | <font color= red >-0.5</font> | <font color= red >0.7788</font>  |\n",
    "| <font color= blue > 2 </font>  | <font color= blue > 2 </font> | <font color= blue > 1 </font>    |\n",
    "| <font color= red > 3 </font>   | <font color= red > 0.5 </font>| <font color= red > 0.7788 </font>|\n",
    "| 4   | 1    | 0.3678 |\n",
    "\n",
    "<center>Cuadro 1: Tabla de valores de $f(x)$\n",
    "  \n",
    "$$\n",
    "\\begin{align}\n",
    "\\int_{-1}^{1}e^{-x^2}dx &\\approx \\frac{0,5}{3}[f(-1)+f(1)+4(\\color{red}{f(-0,5)+f(0,5)})+2\\color{blue}{f(0)}]\\\\\n",
    " &\\approx\\frac{0,5}{3}[0,3678+0,3678+4(\\color{red}{0,7788+0,7788})+2\\cdot\\color{blue}{1}]\\approx1,4943\n",
    "\\end{align}\n",
    "$$\n",
    "\n",
    "\n",
    "<center>A modo de verificación, se calculará por software, el valor del área para $n=100$, un valor mucho más elevado al que se utilizó anteriormente. Si lo calculado previamente es correcto, se esperaría que sea próximo al valor presentado a continuación para ser una buena aproximación.\n",
    "\n",
    "$$\n",
    "\\int_{-1}^{1}e^{-x^2}dx\\approx1,4936\n",
    "$$"
   ]
  },
  {
   "cell_type": "markdown",
   "metadata": {},
   "source": [
    "# Código de solución estudiante 2\n",
    ".\n",
    ".\n",
    ".\n",
    ".\n"
   ]
  },
  {
   "cell_type": "markdown",
   "metadata": {},
   "source": [
    "\n",
    "|       i       | 1 | 2 | 3 | 4 | 5 | 6 | 7 |\n",
    "|:-------------:|---|---|---|---|---|---|---|\n",
    "|  $$E_{i}(V)$$   | 12| 10|24 | 12| - | - | - |\n",
    "|$$r_{i}(\\Omega)$$|0.1|0.5|0.2|0.5| - | - | - |\n",
    "|$$R_{i}(\\Omega)$$| 25|40 |16 |20 | 9 | 4 |20 |\n",
    "\n",
    "\n",
    "&nbsp;&nbsp; <font color=\"Blue\">Kemma y Vorst (1990)</font> muestran que las opciones asiáticas con media geométrica continua se pueden evaluar con el mismo enfoque de las opciones *plain vanilla* solo se deben de cambiar los parámetros de volatilidad $\\sigma$ por $\\sigma_{a}$ y el costo de acarreo $b$ por $b_{A}$.\n",
    "\n",
    "&nbsp;&nbsp; De acuerdo con Kemma y Vorst, las fórmulas para valuar una opciuón de compra y una opción de venta son:\n",
    "$\n",
    "\\begin{equation} \\tag{3}\n",
    "c \\approx S_{t}e^{(b_{A}-r)(T-t)}\\Phi(d_{i}) - Ke^{-r(T-t)}\\Phi (d_{2}),\\\\\n",
    "p \\approx Ke^{-r(T-t)}\\Phi (-d_{2}) - S_{t}e^{(b_{A}-r)(T-t)}\\Phi(-d_{1}).\n",
    "\\end{equation}\n",
    "$\n",
    "\n",
    "con $d_{1}$ y $d_{2}$ dados por:\n",
    "\n",
    "$\n",
    "\\begin{equation} \\tag{4}\n",
    "d_{1} = \\frac{ln(S_{t}/K)+(b_{A}+1/{2\\sigma^{2}_{a}})(T-t))}{\\sigma \\sqrt{T-t}},\\\\\n",
    "d_{2} = d_{1} -\\sigma_{a}\\sqrt{T-t}.\n",
    "\\end{equation}\n",
    "$\n",
    "\n",
    "La función $\\Phi (d)$ es la función de distribución acumulada de $E\\sim \\mathcal{N}(0,1)$. La volatilidad ajustada es igual a:\n",
    "\n",
    "&nbsp;&nbsp;&nbsp;&nbsp;&nbsp;&nbsp;&nbsp;&nbsp;&nbsp;$\n",
    "\\begin{equation}\n",
    "\\sigma_{a} = \\frac{\\sigma}{\\sqrt{3}},\n",
    "\\end{equation}\n",
    "$\n",
    "\n",
    "\n",
    "mientras que el costo de acarrel ajustado es:\n",
    "\n",
    "\n",
    "&nbsp;&nbsp;&nbsp;&nbsp;&nbsp;&nbsp;&nbsp;&nbsp;&nbsp;$\n",
    "\\begin{equation}\n",
    "b_{A} = \\frac{1}{2}(v-\\frac{\\sigma^{2}}{6})\n",
    "\\end{equation}\n",
    "$\n"
   ]
  },
  {
   "cell_type": "code",
   "execution_count": null,
   "metadata": {},
   "outputs": [],
   "source": []
  }
 ],
 "metadata": {
  "kernelspec": {
   "display_name": "Python 3 (ipykernel)",
   "language": "python",
   "name": "python3"
  },
  "language_info": {
   "codemirror_mode": {
    "name": "ipython",
    "version": 3
   },
   "file_extension": ".py",
   "mimetype": "text/x-python",
   "name": "python",
   "nbconvert_exporter": "python",
   "pygments_lexer": "ipython3",
   "version": "3.9.13"
  }
 },
 "nbformat": 4,
 "nbformat_minor": 2
}
